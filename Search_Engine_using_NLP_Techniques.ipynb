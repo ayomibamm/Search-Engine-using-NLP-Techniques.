{
  "cells": [
    {
      "cell_type": "markdown",
      "metadata": {
        "id": "view-in-github",
        "colab_type": "text"
      },
      "source": [
        "<a href=\"https://colab.research.google.com/github/ayomibamm/Search-Engine-using-NLP-Techniques./blob/main/Search_Engine_using_NLP_Techniques.ipynb\" target=\"_parent\"><img src=\"https://colab.research.google.com/assets/colab-badge.svg\" alt=\"Open In Colab\"/></a>"
      ]
    },
    {
      "cell_type": "markdown",
      "source": [
        "## **Robot.txt check**"
      ],
      "metadata": {
        "id": "46QOpD2sBLMv"
      }
    },
    {
      "cell_type": "markdown",
      "metadata": {
        "id": "VKR3Nv7ddtYZ"
      },
      "source": [
        "https://pureportal.coventry.ac.uk/robots.txt:\n",
        "\n",
        "- User-Agent: *\n",
        "\n",
        "- Crawl-Delay: 5\n",
        "\n",
        "- Disallow: /*?*format=rss\n",
        "\n",
        "- Disallow: /*?*export=xls\n",
        "\n",
        "- Sitemap: https://pureportal.coventry.ac.uk/sitemap.xml"
      ]
    },
    {
      "cell_type": "markdown",
      "source": [
        "## **Libraries importation**"
      ],
      "metadata": {
        "id": "kIk5EWcwBUN9"
      }
    },
    {
      "cell_type": "code",
      "execution_count": 1,
      "metadata": {
        "colab": {
          "base_uri": "https://localhost:8080/"
        },
        "id": "J4ga9h76d9uB",
        "outputId": "e7395177-e167-4968-cd5a-ccf373c4e09e"
      },
      "outputs": [
        {
          "output_type": "stream",
          "name": "stderr",
          "text": [
            "[nltk_data] Downloading package punkt to /root/nltk_data...\n",
            "[nltk_data]   Unzipping tokenizers/punkt.zip.\n",
            "[nltk_data] Downloading package stopwords to /root/nltk_data...\n",
            "[nltk_data]   Unzipping corpora/stopwords.zip.\n"
          ]
        }
      ],
      "source": [
        "import json\n",
        "import string\n",
        "import pandas as pd\n",
        "import numpy as np\n",
        "from time import sleep\n",
        "from bs4 import BeautifulSoup as bs\n",
        "import requests\n",
        "from collections import Counter\n",
        "import urllib.robotparser\n",
        "import nltk\n",
        "import matplotlib.pyplot as plt\n",
        "import seaborn as sns\n",
        "from sklearn.decomposition import PCA\n",
        "from sklearn.cluster import KMeans\n",
        "nltk.download('punkt')\n",
        "nltk.download('stopwords')\n",
        "from nltk.corpus import stopwords\n",
        "from nltk.tokenize import word_tokenize\n",
        "from nltk.stem.porter import PorterStemmer\n",
        "from collections import defaultdict\n",
        "from sklearn.feature_extraction.text import TfidfVectorizer\n",
        "from sklearn.feature_extraction.text import CountVectorizer\n",
        "from sklearn.metrics.pairwise import cosine_similarity"
      ]
    },
    {
      "cell_type": "code",
      "execution_count": 2,
      "metadata": {
        "colab": {
          "base_uri": "https://localhost:8080/"
        },
        "id": "LrSdXFJLd2Zo",
        "outputId": "44f8dec4-1f98-4227-fe08-48fdfe221c21"
      },
      "outputs": [
        {
          "output_type": "stream",
          "name": "stdout",
          "text": [
            "Website crawling allowed\n"
          ]
        }
      ],
      "source": [
        "# RobotFileParser object to help read the url robots.txt file\n",
        "rule_preservation = urllib.robotparser.RobotFileParser()\n",
        "rule_preservation.set_url(\"https://pureportal.coventry.ac.uk/en/organisations/research-centre-for-computational-science-and-mathematical-modell/robots.txt\")\n",
        "rule_preservation.read()\n",
        "\n",
        "# Ensuring that required url can be crawled\n",
        "url = \"https://pureportal.coventry.ac.uk/en/organisations/research-centre-for-computational-science-and-mathematical-modell/page.html\"\n",
        "if rule_preservation.can_fetch(\"*\", url):\n",
        "    print(\"Website crawling allowed\")\n",
        "else:\n",
        "    print(\"Website crawling disallowed\")"
      ]
    },
    {
      "cell_type": "markdown",
      "source": [
        "## **Web crawler processing**"
      ],
      "metadata": {
        "id": "L6DFn1cDBeQ4"
      }
    },
    {
      "cell_type": "code",
      "source": [
        "headers = {'User-Agent': 'Mozilla/5.0 (Windows NT 10.0; Win64; x64) AppleWebKit/537.36 (KHTML, like Gecko) Chrome/111.0.0.0 Safari/537.36'}\n",
        "\n",
        "data =[]\n",
        "\n",
        "def getInfo(page):\n",
        "    url = f'https://pureportal.coventry.ac.uk/en/organisations/research-centre-for-computational-science-and-mathematical-modell/publications/?page={page}&pagesize=50'\n",
        "    response = requests.get(url, headers=headers)\n",
        "    html = response.text\n",
        "    soup = bs(html, \"html.parser\")\n",
        "    box = soup.find_all('h3', class_='title')\n",
        "\n",
        "    for dom in box:\n",
        "        pub = {}\n",
        "        title =dom.string.lower()   # extraction of publication title\n",
        "        link = dom.find('a', class_ = 'link')\n",
        "        links = link.get('href') # extraction of publication links\n",
        "\n",
        "        html2 = requests.get(links)\n",
        "        soup2 = bs(html2.text, 'html.parser') # application of beautiful soup module to each link to extract further information\n",
        "\n",
        "        pub_abstract = soup2.find('div', class_ = 'textblock') # retrieving publication abstract\n",
        "\n",
        "        if pub_abstract:\n",
        "            abstracts = pub_abstract.text.strip()\n",
        "            abstract = abstracts.partition('.')[0] + '...' # ensuring that only the first line of abstract is extracted\n",
        "        else:\n",
        "            abstract= \"not available\" # some of the publications do not have this information\n",
        "\n",
        "        aut_details = soup2.find_all('a', class_ = 'link person')\n",
        "        aut_data = []\n",
        "        for author in aut_details:\n",
        "            aut_name = author.get_text().strip() # authors name and link\n",
        "            if aut_name:\n",
        "                aut_names = aut_name\n",
        "                aut_links = author.get('href')\n",
        "                aut_data.append(f'{aut_names}, {aut_links}')\n",
        "\n",
        "        pub_date = soup2.find('span', class_ = 'date').string.strip()\n",
        "\n",
        "        if aut_data: # all information appended only if at least 1 author has both information present\n",
        "            pub['Publication title'] = title\n",
        "            pub['Link'] = links\n",
        "            pub['Abstract'] = abstract\n",
        "            pub['Date'] = pub_date\n",
        "            pub['Author information'] = aut_data\n",
        "            data.append(pub)\n",
        "\n",
        "    return\n",
        "\n",
        "# crawl delay of 5 seconds per page\n",
        "for x in range(0,5):\n",
        "    getInfo(x)\n",
        "    sleep(5)\n"
      ],
      "metadata": {
        "id": "FWDVVLuewikH"
      },
      "execution_count": 3,
      "outputs": []
    },
    {
      "cell_type": "code",
      "source": [
        "data"
      ],
      "metadata": {
        "id": "grtyRd_dtWaM"
      },
      "execution_count": null,
      "outputs": []
    },
    {
      "cell_type": "code",
      "source": [
        "# total number publications extracted\n",
        "len(data)"
      ],
      "metadata": {
        "id": "j3sIYsJKLusA",
        "colab": {
          "base_uri": "https://localhost:8080/"
        },
        "outputId": "1751f4e6-1ac4-40bd-861b-3418607ed613"
      },
      "execution_count": 5,
      "outputs": [
        {
          "output_type": "execute_result",
          "data": {
            "text/plain": [
              "228"
            ]
          },
          "metadata": {},
          "execution_count": 5
        }
      ]
    },
    {
      "cell_type": "markdown",
      "source": [
        "## **Inverted Index implementation**"
      ],
      "metadata": {
        "id": "mlF-c63vBlrd"
      }
    },
    {
      "cell_type": "code",
      "execution_count": 6,
      "metadata": {
        "id": "zBk_-veZivAi"
      },
      "outputs": [],
      "source": [
        "# data saved as a json data file\n",
        "with open('publication.json', 'w') as f:\n",
        "    json.dump(data, f)\n",
        "\n",
        "publications = \"/content/publication.json\"\n",
        "\n",
        "#function for inverted_index for the unique terms in the documents\n",
        "ps = PorterStemmer()\n",
        "def data_processing(publications):\n",
        "    inverted_index={}\n",
        "    cleaned_titles = []\n",
        "    with open('publication.json', 'r') as f:\n",
        "        publications = json.load(f)\n",
        "\n",
        "    data_titles = [publication['Publication title'] for publication in publications]\n",
        "\n",
        "    doc_id = 0\n",
        "\n",
        "    # data pre-processing techniques application\n",
        "    for titles in data_titles:\n",
        "        tokenised_titles = word_tokenize(titles)\n",
        "        tokenised_lower = [w.lower() for w in tokenised_titles if w.isalnum()]\n",
        "        stopped_titles = [w for w in tokenised_lower if w not in stopwords.words('english')]\n",
        "        stemmed_titles = [ps.stem(w) for w in stopped_titles]\n",
        "        cleaned_titles.append(stemmed_titles)\n",
        "\n",
        "        # initialisation of the indexer for each unique terms.\n",
        "        for stemmed in stemmed_titles:\n",
        "            value = inverted_index.get(stemmed)\n",
        "            if value == None:\n",
        "                count = [1, [doc_id]]\n",
        "                inverted_index[stemmed] = count\n",
        "            else:\n",
        "                count = inverted_index[stemmed]\n",
        "                if doc_id not in count[1]:\n",
        "                    count[1].append(doc_id)\n",
        "                    count[0] += 1\n",
        "\n",
        "        doc_id += 1\n",
        "\n",
        "    return inverted_index, cleaned_titles, data_titles\n",
        "\n",
        "inverted_index, cleaned_titles, data_titles = data_processing(publications)"
      ]
    },
    {
      "cell_type": "code",
      "source": [
        "inverted_index"
      ],
      "metadata": {
        "id": "ulDcnRHHZKV1"
      },
      "execution_count": null,
      "outputs": []
    },
    {
      "cell_type": "code",
      "source": [
        "data_titles"
      ],
      "metadata": {
        "id": "iF5RrumvPjej"
      },
      "execution_count": null,
      "outputs": []
    },
    {
      "cell_type": "markdown",
      "source": [
        "### **Example of implementation- Limited to just 1 to 2 words**"
      ],
      "metadata": {
        "id": "-r0a3Y3GBu3f"
      }
    },
    {
      "cell_type": "code",
      "source": [
        "\n",
        "def get_publication_info(query, cleaned_titles, inverted_index, data):\n",
        "    # Flatten the list of titles\n",
        "    flatten_list = [item for items in cleaned_titles for item in items]\n",
        "\n",
        "    # Tokenize, lowercase, remove stopwords, and stem the query\n",
        "    token_query = word_tokenize(query)\n",
        "    token_lower = [w.lower() for w in token_query if w.isalnum()]\n",
        "    stopped_query = [w for w in token_lower if w not in stopwords.words('english')]\n",
        "    ps = PorterStemmer()\n",
        "    stemmed = [ps.stem(w) for w in stopped_query]\n",
        "\n",
        "    if any(word not in flatten_list for word in stemmed):\n",
        "        print('please try searching another term or phrase')\n",
        "        return None\n",
        "\n",
        "    # Check the length of the stemmed query\n",
        "    if len(stemmed) == 1 and (stemmed[-1] in flatten_list):\n",
        "        infor = inverted_index[stemmed[-1]]\n",
        "        post_list = infor[1]\n",
        "\n",
        "    elif len(stemmed) == 2:\n",
        "        result = []\n",
        "        for word in stemmed:\n",
        "            if word in flatten_list:\n",
        "                infor = inverted_index[word]\n",
        "                lists = infor[1]\n",
        "                result.append(lists)\n",
        "            else:\n",
        "                print(f'{word} is not present in any publication')\n",
        "                post_list = lists\n",
        "                print(post_list)\n",
        "\n",
        "        if len(result) > 0:\n",
        "            post_list = list(set.intersection(*map(set,result)))\n",
        "\n",
        "    else:\n",
        "        print('please try searching another term or phrase')\n",
        "        return None\n",
        "\n",
        "    Result_list = []\n",
        "    associated_titles = [data[i] for i in post_list]\n",
        "    for information in associated_titles:\n",
        "        date, link = information['Date'], information['Link']\n",
        "        info = f\"'{date}': {link}\"\n",
        "        Result_list.append(info)\n",
        "\n",
        "    return Result_list\n",
        "\n",
        "# Example usage:\n",
        "# Replace the arguments with your actual data\n",
        "user_input = input('Query: ')\n",
        "get_publication_info(user_input, cleaned_titles, inverted_index, data)\n"
      ],
      "metadata": {
        "colab": {
          "base_uri": "https://localhost:8080/"
        },
        "id": "3fmv00nBuHMr",
        "outputId": "fbee66da-2c15-45b4-c245-e8d4084c06be"
      },
      "execution_count": 9,
      "outputs": [
        {
          "name": "stdout",
          "output_type": "stream",
          "text": [
            "Query: machine learning\n"
          ]
        },
        {
          "output_type": "execute_result",
          "data": {
            "text/plain": [
              "[\"'25 Sept 2021': https://pureportal.coventry.ac.uk/en/publications/detection-of-sleep-apnea-using-machine-learning-algorithms-based-\",\n",
              " \"'14 Nov 2022': https://pureportal.coventry.ac.uk/en/publications/sc-square-future-progress-with-machine-learning\",\n",
              " \"'20 Apr 2022': https://pureportal.coventry.ac.uk/en/publications/stable-likelihood-computation-for-machine-learning-of-linear-diff\",\n",
              " \"'5 Jan 2022': https://pureportal.coventry.ac.uk/en/publications/using-machine-learning-for-anomaly-detection-on-a-system-on-chip-\",\n",
              " \"'30 Jun 2022': https://pureportal.coventry.ac.uk/en/publications/using-machine-learning-for-anomaly-detection-on-a-system-on-chip--2\",\n",
              " \"'2022': https://pureportal.coventry.ac.uk/en/publications/machine-learning-for-computer-algebra\",\n",
              " \"'23 Aug 2022': https://pureportal.coventry.ac.uk/en/publications/using-machine-learning-in-sc2\",\n",
              " \"'9 Jun 2021': https://pureportal.coventry.ac.uk/en/publications/using-machine-learning-algorithms-to-develop-a-clinical-decision-\",\n",
              " \"'8 Jul 2020': https://pureportal.coventry.ac.uk/en/publications/a-machine-learning-based-software-pipeline-to-pick-the-variable-o\"]"
            ]
          },
          "metadata": {},
          "execution_count": 9
        }
      ]
    },
    {
      "cell_type": "markdown",
      "source": [
        "## **Implementation of Query Processor**"
      ],
      "metadata": {
        "id": "AB8mnN39B4MC"
      }
    },
    {
      "cell_type": "code",
      "execution_count": 11,
      "metadata": {
        "id": "xAuzB9KUlS5g"
      },
      "outputs": [],
      "source": [
        "docid = []\n",
        "for i in range(1, (len(data)+1)):\n",
        "    docid.append(i)\n",
        "\n",
        "# dictionary of data with docid as key and main data as nested dictionary\n",
        "#- this will be the processor result\n",
        "data_dict = dict(zip(docid, data))\n",
        "\n",
        "# convert data to a data frame with docid as index to help visualise each data better\n",
        "df = pd.DataFrame(data)\n",
        "df['doc_id'] = docid\n",
        "df = df.set_index('doc_id')"
      ]
    },
    {
      "cell_type": "code",
      "execution_count": 15,
      "metadata": {
        "id": "aVkcuaOxlx7X",
        "colab": {
          "base_uri": "https://localhost:8080/"
        },
        "outputId": "483a1329-510d-4585-bdcf-8ffed4006f5b"
      },
      "outputs": [
        {
          "output_type": "stream",
          "name": "stdout",
          "text": [
            "Query: machin learnnig\n",
            "\n",
            "Publication title: machine learning for computer algebra\n",
            "Link: https://pureportal.coventry.ac.uk/en/publications/machine-learning-for-computer-algebra\n",
            "Abstract: not available\n",
            "Date: 2022\n",
            "Author information: ['Rashid Barket, https://pureportal.coventry.ac.uk/en/persons/rashid-barket', 'Tereso del Río, https://pureportal.coventry.ac.uk/en/persons/tereso-del-r%C3%ADo-almajano', 'Matthew England, https://pureportal.coventry.ac.uk/en/persons/matthew-england']\n",
            "\n",
            "Publication title: using machine learning in sc2\n",
            "Link: https://pureportal.coventry.ac.uk/en/publications/using-machine-learning-in-sc2\n",
            "Abstract: This talk exposes many possible uses of Machine Learning (ML) in the context of SC2, and how this approach differs from human-made heuristics...\n",
            "Date: 23 Aug 2022\n",
            "Author information: ['Tereso del Río, https://pureportal.coventry.ac.uk/en/persons/tereso-del-r%C3%ADo-almajano']\n",
            "\n",
            "Publication title: sc-square: future progress with machine learning\n",
            "Link: https://pureportal.coventry.ac.uk/en/publications/sc-square-future-progress-with-machine-learning\n",
            "Abstract: The algorithms employed by our communities are often underspecified, and thus have multiple implementation choices, which do not effect the correctness of the output, but do impact the efficiency or even tractability of its production...\n",
            "Date: 14 Nov 2022\n",
            "Author information: ['Matthew England, https://pureportal.coventry.ac.uk/en/persons/matthew-england']\n",
            "\n",
            "Publication title: opt-rnn-dbsvm: optimal recurrent neural network and density-based support vector machine\n",
            "Link: https://pureportal.coventry.ac.uk/en/publications/opt-rnn-dbsvm-optimal-recurrent-neural-network-and-density-based-\n",
            "Abstract: When implementing SVMs, two major problems are encountered: (a) the number of local minima of dual-SVM increases exponentially with the number of samples and (b) the computer storage memory required for a regular quadratic programming solver increases exponentially as the problem size expands...\n",
            "Date: 17 Aug 2023\n",
            "Author information: ['Vasile Palade, https://pureportal.coventry.ac.uk/en/persons/vasile-palade']\n",
            "\n",
            "Publication title: using machine learning for anomaly detection on a system-on-chip under gamma radiation\n",
            "Link: https://pureportal.coventry.ac.uk/en/publications/using-machine-learning-for-anomaly-detection-on-a-system-on-chip-\n",
            "Abstract: The emergence of new nanoscale technologies has imposed significant challenges to designing reliable electronic systems in radiation environments...\n",
            "Date: 5 Jan 2022\n",
            "Author information: ['Server Kasap, https://pureportal.coventry.ac.uk/en/persons/server-kasap', 'Kasap, S., https://pureportal.coventry.ac.uk/en/persons/server-kasap']\n",
            "\n",
            "Publication title: using machine learning for anomaly detection on a system-on-chip under gamma radiation\n",
            "Link: https://pureportal.coventry.ac.uk/en/publications/using-machine-learning-for-anomaly-detection-on-a-system-on-chip--2\n",
            "Abstract: The emergence of new nanoscale technologies has imposed significant challenges to designing reliable electronic systems in radiation environments...\n",
            "Date: 30 Jun 2022\n",
            "Author information: ['Server Kasap, https://pureportal.coventry.ac.uk/en/persons/server-kasap', 'Kasap, S., https://pureportal.coventry.ac.uk/en/persons/server-kasap']\n",
            "\n",
            "Publication title: using machine learning algorithms to develop a clinical decision-making tool for covid-19 inpatients\n",
            "Link: https://pureportal.coventry.ac.uk/en/publications/using-machine-learning-algorithms-to-develop-a-clinical-decision-\n",
            "Abstract: Background: Within the UK, COVID-19 has contributed towards over 103,000 deaths...\n",
            "Date: 9 Jun 2021\n",
            "Author information: ['Alireza Daneshkhah, https://pureportal.coventry.ac.uk/en/persons/alireza-daneshkhah']\n",
            "\n",
            "Publication title: stable likelihood computation for machine learning of linear differential operators with gaussian processes\n",
            "Link: https://pureportal.coventry.ac.uk/en/publications/stable-likelihood-computation-for-machine-learning-of-linear-diff\n",
            "Abstract: In many applied sciences, the main aim is to learn the parameters in the operational equations which best fit the observed data...\n",
            "Date: 20 Apr 2022\n",
            "Author information: ['Omid Chatrabgoun, https://pureportal.coventry.ac.uk/en/persons/omid-chatrabgoun', 'Alireza Daneshkhah, https://pureportal.coventry.ac.uk/en/persons/alireza-daneshkhah']\n",
            "\n",
            "Publication title: a leap from randomized to quantum clustering with support vector machine - a computation complexity analysis\n",
            "Link: https://pureportal.coventry.ac.uk/en/publications/a-leap-from-randomized-to-quantum-clustering-with-support-vector-\n",
            "Abstract: Supervised machine learning deals with developing complex non-linear models, which can be used later to predict the output for a known input...\n",
            "Date: 3 Aug 2020\n",
            "Author information: ['Vasile Palade, https://pureportal.coventry.ac.uk/en/persons/vasile-palade']\n",
            "\n",
            "Publication title: predicting primary sequence-based protein-protein interactions using a mercer series representation of nonlinear support vector machine\n",
            "Link: https://pureportal.coventry.ac.uk/en/publications/predicting-primary-sequence-based-protein-protein-interactions-us\n",
            "Abstract: The prediction of protein-protein interactions (PPIs) is essential to understand the cellular processes from a medical perspective...\n",
            "Date: 1 Dec 2022\n",
            "Author information: ['Omid Chatrabgoun, https://pureportal.coventry.ac.uk/en/persons/omid-chatrabgoun', 'Alireza Daneshkhah, https://pureportal.coventry.ac.uk/en/persons/alireza-daneshkhah']\n",
            "\n",
            "Publication title: a machine learning based software pipeline to pick the variable ordering for algorithms with polynomial inputs\n",
            "Link: https://pureportal.coventry.ac.uk/en/publications/a-machine-learning-based-software-pipeline-to-pick-the-variable-o\n",
            "Abstract: We are interested in the application of Machine Learning (ML) technology to improve mathematical software...\n",
            "Date: 8 Jul 2020\n",
            "Author information: ['Matthew England, https://pureportal.coventry.ac.uk/en/persons/matthew-england']\n",
            "\n",
            "Publication title: detection of sleep apnea using machine learning algorithms based on ecg signals: a comprehensive systematic review\n",
            "Link: https://pureportal.coventry.ac.uk/en/publications/detection-of-sleep-apnea-using-machine-learning-algorithms-based-\n",
            "Abstract: Sleep apnea (SA) is a common sleep disorder that is not easy to detect...\n",
            "Date: 25 Sept 2021\n",
            "Author information: ['Alireza Daneshkhah, https://pureportal.coventry.ac.uk/en/persons/alireza-daneshkhah']\n"
          ]
        }
      ],
      "source": [
        "# combining the tokenised words in cleaned titles to form a cleaned sentence for vectorization\n",
        "filtered_docs = []\n",
        "for title in cleaned_titles:\n",
        "    title = ' '.join(title)\n",
        "    filtered_docs.append(title)\n",
        "filtered_docs\n",
        "\n",
        "def queryprocessor(query):\n",
        "    tokens = word_tokenize(query)\n",
        "    tmp = \"\"\n",
        "    for w in tokens:\n",
        "        if w not in stopwords.words('english'):\n",
        "            tmp += ps.stem(w) + \" \"\n",
        "\n",
        "    vectorizer = TfidfVectorizer()\n",
        "    X = vectorizer.fit_transform(filtered_docs) # vectorization of the document\n",
        "    query_vec = vectorizer.transform([tmp]) # vectorization of query\n",
        "    results = cosine_similarity(X,query_vec).reshape((-1,)) # to measure document similary\n",
        "    res = results.tolist()\n",
        "    similarity_data = {'doc_id': docid, 'similarity_score': res, 'title': data_titles}\n",
        "    df_similarity = pd.DataFrame(similarity_data) # dataframe to visualise the similarity of the query to each doc\n",
        "    df_similarity.sort_values(by=['similarity_score'], inplace=True, ascending=False) # values arranged in ascending order\n",
        "    query_relevance = df_similarity[df_similarity['similarity_score'] > 0] #only similarity values > 0 printed\n",
        "    post_lists = (query_relevance['doc_id']).tolist()\n",
        "\n",
        "    # retrieves publication details based on doc ID from post list\n",
        "    if post_lists:\n",
        "        for i in post_lists:\n",
        "            idd = i\n",
        "            for id, info in data_dict.items():\n",
        "                if idd == id:\n",
        "                    print()\n",
        "                    for key in info:\n",
        "                        result = print(key + ':', info[key])\n",
        "    else:\n",
        "        print('please try searching another term or phrase')\n",
        "\n",
        "    return post_lists, results, query_relevance\n",
        "\n",
        "user_input = input('Query: ')\n",
        "post_lists, results, query_relevance = queryprocessor(user_input)"
      ]
    },
    {
      "cell_type": "code",
      "source": [
        "query_relevance"
      ],
      "metadata": {
        "id": "1JR6uwfuPr8h",
        "colab": {
          "base_uri": "https://localhost:8080/",
          "height": 425
        },
        "outputId": "5b00bbb9-a0ed-44dd-d282-388328123db3"
      },
      "execution_count": null,
      "outputs": [
        {
          "output_type": "execute_result",
          "data": {
            "text/plain": [
              "     doc_id  similarity_score  \\\n",
              "117     118          0.496218   \n",
              "149     150          0.476305   \n",
              "137     138          0.423423   \n",
              "64       65          0.343662   \n",
              "147     148          0.333344   \n",
              "148     149          0.333344   \n",
              "211     212          0.308186   \n",
              "139     140          0.257561   \n",
              "215     216          0.254528   \n",
              "129     130          0.242446   \n",
              "217     218          0.239980   \n",
              "100     101          0.235466   \n",
              "\n",
              "                                                 title  \n",
              "117              machine learning for computer algebra  \n",
              "149                      using machine learning in sc2  \n",
              "137   sc-square: future progress with machine learning  \n",
              "64   opt-rnn-dbsvm: optimal recurrent neural networ...  \n",
              "147  using machine learning for anomaly detection o...  \n",
              "148  using machine learning for anomaly detection o...  \n",
              "211  using machine learning algorithms to develop a...  \n",
              "139  stable likelihood computation for machine lear...  \n",
              "215  a leap from randomized to quantum clustering w...  \n",
              "129  predicting primary sequence-based protein-prot...  \n",
              "217  a machine learning based software pipeline to ...  \n",
              "100  detection of sleep apnea using machine learnin...  "
            ],
            "text/html": [
              "\n",
              "  <div id=\"df-1dda9ddd-d429-434a-899c-e3c86574e311\" class=\"colab-df-container\">\n",
              "    <div>\n",
              "<style scoped>\n",
              "    .dataframe tbody tr th:only-of-type {\n",
              "        vertical-align: middle;\n",
              "    }\n",
              "\n",
              "    .dataframe tbody tr th {\n",
              "        vertical-align: top;\n",
              "    }\n",
              "\n",
              "    .dataframe thead th {\n",
              "        text-align: right;\n",
              "    }\n",
              "</style>\n",
              "<table border=\"1\" class=\"dataframe\">\n",
              "  <thead>\n",
              "    <tr style=\"text-align: right;\">\n",
              "      <th></th>\n",
              "      <th>doc_id</th>\n",
              "      <th>similarity_score</th>\n",
              "      <th>title</th>\n",
              "    </tr>\n",
              "  </thead>\n",
              "  <tbody>\n",
              "    <tr>\n",
              "      <th>117</th>\n",
              "      <td>118</td>\n",
              "      <td>0.496218</td>\n",
              "      <td>machine learning for computer algebra</td>\n",
              "    </tr>\n",
              "    <tr>\n",
              "      <th>149</th>\n",
              "      <td>150</td>\n",
              "      <td>0.476305</td>\n",
              "      <td>using machine learning in sc2</td>\n",
              "    </tr>\n",
              "    <tr>\n",
              "      <th>137</th>\n",
              "      <td>138</td>\n",
              "      <td>0.423423</td>\n",
              "      <td>sc-square: future progress with machine learning</td>\n",
              "    </tr>\n",
              "    <tr>\n",
              "      <th>64</th>\n",
              "      <td>65</td>\n",
              "      <td>0.343662</td>\n",
              "      <td>opt-rnn-dbsvm: optimal recurrent neural networ...</td>\n",
              "    </tr>\n",
              "    <tr>\n",
              "      <th>147</th>\n",
              "      <td>148</td>\n",
              "      <td>0.333344</td>\n",
              "      <td>using machine learning for anomaly detection o...</td>\n",
              "    </tr>\n",
              "    <tr>\n",
              "      <th>148</th>\n",
              "      <td>149</td>\n",
              "      <td>0.333344</td>\n",
              "      <td>using machine learning for anomaly detection o...</td>\n",
              "    </tr>\n",
              "    <tr>\n",
              "      <th>211</th>\n",
              "      <td>212</td>\n",
              "      <td>0.308186</td>\n",
              "      <td>using machine learning algorithms to develop a...</td>\n",
              "    </tr>\n",
              "    <tr>\n",
              "      <th>139</th>\n",
              "      <td>140</td>\n",
              "      <td>0.257561</td>\n",
              "      <td>stable likelihood computation for machine lear...</td>\n",
              "    </tr>\n",
              "    <tr>\n",
              "      <th>215</th>\n",
              "      <td>216</td>\n",
              "      <td>0.254528</td>\n",
              "      <td>a leap from randomized to quantum clustering w...</td>\n",
              "    </tr>\n",
              "    <tr>\n",
              "      <th>129</th>\n",
              "      <td>130</td>\n",
              "      <td>0.242446</td>\n",
              "      <td>predicting primary sequence-based protein-prot...</td>\n",
              "    </tr>\n",
              "    <tr>\n",
              "      <th>217</th>\n",
              "      <td>218</td>\n",
              "      <td>0.239980</td>\n",
              "      <td>a machine learning based software pipeline to ...</td>\n",
              "    </tr>\n",
              "    <tr>\n",
              "      <th>100</th>\n",
              "      <td>101</td>\n",
              "      <td>0.235466</td>\n",
              "      <td>detection of sleep apnea using machine learnin...</td>\n",
              "    </tr>\n",
              "  </tbody>\n",
              "</table>\n",
              "</div>\n",
              "    <div class=\"colab-df-buttons\">\n",
              "\n",
              "  <div class=\"colab-df-container\">\n",
              "    <button class=\"colab-df-convert\" onclick=\"convertToInteractive('df-1dda9ddd-d429-434a-899c-e3c86574e311')\"\n",
              "            title=\"Convert this dataframe to an interactive table.\"\n",
              "            style=\"display:none;\">\n",
              "\n",
              "  <svg xmlns=\"http://www.w3.org/2000/svg\" height=\"24px\" viewBox=\"0 -960 960 960\">\n",
              "    <path d=\"M120-120v-720h720v720H120Zm60-500h600v-160H180v160Zm220 220h160v-160H400v160Zm0 220h160v-160H400v160ZM180-400h160v-160H180v160Zm440 0h160v-160H620v160ZM180-180h160v-160H180v160Zm440 0h160v-160H620v160Z\"/>\n",
              "  </svg>\n",
              "    </button>\n",
              "\n",
              "  <style>\n",
              "    .colab-df-container {\n",
              "      display:flex;\n",
              "      gap: 12px;\n",
              "    }\n",
              "\n",
              "    .colab-df-convert {\n",
              "      background-color: #E8F0FE;\n",
              "      border: none;\n",
              "      border-radius: 50%;\n",
              "      cursor: pointer;\n",
              "      display: none;\n",
              "      fill: #1967D2;\n",
              "      height: 32px;\n",
              "      padding: 0 0 0 0;\n",
              "      width: 32px;\n",
              "    }\n",
              "\n",
              "    .colab-df-convert:hover {\n",
              "      background-color: #E2EBFA;\n",
              "      box-shadow: 0px 1px 2px rgba(60, 64, 67, 0.3), 0px 1px 3px 1px rgba(60, 64, 67, 0.15);\n",
              "      fill: #174EA6;\n",
              "    }\n",
              "\n",
              "    .colab-df-buttons div {\n",
              "      margin-bottom: 4px;\n",
              "    }\n",
              "\n",
              "    [theme=dark] .colab-df-convert {\n",
              "      background-color: #3B4455;\n",
              "      fill: #D2E3FC;\n",
              "    }\n",
              "\n",
              "    [theme=dark] .colab-df-convert:hover {\n",
              "      background-color: #434B5C;\n",
              "      box-shadow: 0px 1px 3px 1px rgba(0, 0, 0, 0.15);\n",
              "      filter: drop-shadow(0px 1px 2px rgba(0, 0, 0, 0.3));\n",
              "      fill: #FFFFFF;\n",
              "    }\n",
              "  </style>\n",
              "\n",
              "    <script>\n",
              "      const buttonEl =\n",
              "        document.querySelector('#df-1dda9ddd-d429-434a-899c-e3c86574e311 button.colab-df-convert');\n",
              "      buttonEl.style.display =\n",
              "        google.colab.kernel.accessAllowed ? 'block' : 'none';\n",
              "\n",
              "      async function convertToInteractive(key) {\n",
              "        const element = document.querySelector('#df-1dda9ddd-d429-434a-899c-e3c86574e311');\n",
              "        const dataTable =\n",
              "          await google.colab.kernel.invokeFunction('convertToInteractive',\n",
              "                                                    [key], {});\n",
              "        if (!dataTable) return;\n",
              "\n",
              "        const docLinkHtml = 'Like what you see? Visit the ' +\n",
              "          '<a target=\"_blank\" href=https://colab.research.google.com/notebooks/data_table.ipynb>data table notebook</a>'\n",
              "          + ' to learn more about interactive tables.';\n",
              "        element.innerHTML = '';\n",
              "        dataTable['output_type'] = 'display_data';\n",
              "        await google.colab.output.renderOutput(dataTable, element);\n",
              "        const docLink = document.createElement('div');\n",
              "        docLink.innerHTML = docLinkHtml;\n",
              "        element.appendChild(docLink);\n",
              "      }\n",
              "    </script>\n",
              "  </div>\n",
              "\n",
              "\n",
              "<div id=\"df-f13c525c-06ff-41c9-a912-dc2c58596501\">\n",
              "  <button class=\"colab-df-quickchart\" onclick=\"quickchart('df-f13c525c-06ff-41c9-a912-dc2c58596501')\"\n",
              "            title=\"Suggest charts\"\n",
              "            style=\"display:none;\">\n",
              "\n",
              "<svg xmlns=\"http://www.w3.org/2000/svg\" height=\"24px\"viewBox=\"0 0 24 24\"\n",
              "     width=\"24px\">\n",
              "    <g>\n",
              "        <path d=\"M19 3H5c-1.1 0-2 .9-2 2v14c0 1.1.9 2 2 2h14c1.1 0 2-.9 2-2V5c0-1.1-.9-2-2-2zM9 17H7v-7h2v7zm4 0h-2V7h2v10zm4 0h-2v-4h2v4z\"/>\n",
              "    </g>\n",
              "</svg>\n",
              "  </button>\n",
              "\n",
              "<style>\n",
              "  .colab-df-quickchart {\n",
              "      --bg-color: #E8F0FE;\n",
              "      --fill-color: #1967D2;\n",
              "      --hover-bg-color: #E2EBFA;\n",
              "      --hover-fill-color: #174EA6;\n",
              "      --disabled-fill-color: #AAA;\n",
              "      --disabled-bg-color: #DDD;\n",
              "  }\n",
              "\n",
              "  [theme=dark] .colab-df-quickchart {\n",
              "      --bg-color: #3B4455;\n",
              "      --fill-color: #D2E3FC;\n",
              "      --hover-bg-color: #434B5C;\n",
              "      --hover-fill-color: #FFFFFF;\n",
              "      --disabled-bg-color: #3B4455;\n",
              "      --disabled-fill-color: #666;\n",
              "  }\n",
              "\n",
              "  .colab-df-quickchart {\n",
              "    background-color: var(--bg-color);\n",
              "    border: none;\n",
              "    border-radius: 50%;\n",
              "    cursor: pointer;\n",
              "    display: none;\n",
              "    fill: var(--fill-color);\n",
              "    height: 32px;\n",
              "    padding: 0;\n",
              "    width: 32px;\n",
              "  }\n",
              "\n",
              "  .colab-df-quickchart:hover {\n",
              "    background-color: var(--hover-bg-color);\n",
              "    box-shadow: 0 1px 2px rgba(60, 64, 67, 0.3), 0 1px 3px 1px rgba(60, 64, 67, 0.15);\n",
              "    fill: var(--button-hover-fill-color);\n",
              "  }\n",
              "\n",
              "  .colab-df-quickchart-complete:disabled,\n",
              "  .colab-df-quickchart-complete:disabled:hover {\n",
              "    background-color: var(--disabled-bg-color);\n",
              "    fill: var(--disabled-fill-color);\n",
              "    box-shadow: none;\n",
              "  }\n",
              "\n",
              "  .colab-df-spinner {\n",
              "    border: 2px solid var(--fill-color);\n",
              "    border-color: transparent;\n",
              "    border-bottom-color: var(--fill-color);\n",
              "    animation:\n",
              "      spin 1s steps(1) infinite;\n",
              "  }\n",
              "\n",
              "  @keyframes spin {\n",
              "    0% {\n",
              "      border-color: transparent;\n",
              "      border-bottom-color: var(--fill-color);\n",
              "      border-left-color: var(--fill-color);\n",
              "    }\n",
              "    20% {\n",
              "      border-color: transparent;\n",
              "      border-left-color: var(--fill-color);\n",
              "      border-top-color: var(--fill-color);\n",
              "    }\n",
              "    30% {\n",
              "      border-color: transparent;\n",
              "      border-left-color: var(--fill-color);\n",
              "      border-top-color: var(--fill-color);\n",
              "      border-right-color: var(--fill-color);\n",
              "    }\n",
              "    40% {\n",
              "      border-color: transparent;\n",
              "      border-right-color: var(--fill-color);\n",
              "      border-top-color: var(--fill-color);\n",
              "    }\n",
              "    60% {\n",
              "      border-color: transparent;\n",
              "      border-right-color: var(--fill-color);\n",
              "    }\n",
              "    80% {\n",
              "      border-color: transparent;\n",
              "      border-right-color: var(--fill-color);\n",
              "      border-bottom-color: var(--fill-color);\n",
              "    }\n",
              "    90% {\n",
              "      border-color: transparent;\n",
              "      border-bottom-color: var(--fill-color);\n",
              "    }\n",
              "  }\n",
              "</style>\n",
              "\n",
              "  <script>\n",
              "    async function quickchart(key) {\n",
              "      const quickchartButtonEl =\n",
              "        document.querySelector('#' + key + ' button');\n",
              "      quickchartButtonEl.disabled = true;  // To prevent multiple clicks.\n",
              "      quickchartButtonEl.classList.add('colab-df-spinner');\n",
              "      try {\n",
              "        const charts = await google.colab.kernel.invokeFunction(\n",
              "            'suggestCharts', [key], {});\n",
              "      } catch (error) {\n",
              "        console.error('Error during call to suggestCharts:', error);\n",
              "      }\n",
              "      quickchartButtonEl.classList.remove('colab-df-spinner');\n",
              "      quickchartButtonEl.classList.add('colab-df-quickchart-complete');\n",
              "    }\n",
              "    (() => {\n",
              "      let quickchartButtonEl =\n",
              "        document.querySelector('#df-f13c525c-06ff-41c9-a912-dc2c58596501 button');\n",
              "      quickchartButtonEl.style.display =\n",
              "        google.colab.kernel.accessAllowed ? 'block' : 'none';\n",
              "    })();\n",
              "  </script>\n",
              "</div>\n",
              "    </div>\n",
              "  </div>\n"
            ],
            "application/vnd.google.colaboratory.intrinsic+json": {
              "type": "dataframe",
              "variable_name": "query_relevance",
              "summary": "{\n  \"name\": \"query_relevance\",\n  \"rows\": 12,\n  \"fields\": [\n    {\n      \"column\": \"doc_id\",\n      \"properties\": {\n        \"dtype\": \"number\",\n        \"std\": 46,\n        \"min\": 65,\n        \"max\": 218,\n        \"num_unique_values\": 12,\n        \"samples\": [\n          218,\n          130,\n          118\n        ],\n        \"semantic_type\": \"\",\n        \"description\": \"\"\n      }\n    },\n    {\n      \"column\": \"similarity_score\",\n      \"properties\": {\n        \"dtype\": \"number\",\n        \"std\": 0.09247894918940618,\n        \"min\": 0.2354663682977269,\n        \"max\": 0.4962184021509994,\n        \"num_unique_values\": 11,\n        \"samples\": [\n          0.3081855493908874,\n          0.4962184021509994,\n          0.23997977593540168\n        ],\n        \"semantic_type\": \"\",\n        \"description\": \"\"\n      }\n    },\n    {\n      \"column\": \"title\",\n      \"properties\": {\n        \"dtype\": \"string\",\n        \"num_unique_values\": 11,\n        \"samples\": [\n          \"using machine learning algorithms to develop a clinical decision-making tool for covid-19 inpatients\",\n          \"machine learning for computer algebra\",\n          \"a machine learning based software pipeline to pick the variable ordering for algorithms with polynomial inputs\"\n        ],\n        \"semantic_type\": \"\",\n        \"description\": \"\"\n      }\n    }\n  ]\n}"
            }
          },
          "metadata": {},
          "execution_count": 20
        }
      ]
    },
    {
      "cell_type": "code",
      "source": [
        "import pandas as pd\n",
        "\n",
        "# Load JSON data\n",
        "with open('publication.json', 'r') as f:\n",
        "    json_data = json.load(f)\n",
        "\n",
        "# Convert to DataFrame\n",
        "df = pd.DataFrame(json_data)\n",
        "\n",
        "# Save as CSV\n",
        "df.to_csv('publications.csv', index=False)"
      ],
      "metadata": {
        "id": "-cNUR7lO1vm3"
      },
      "execution_count": 16,
      "outputs": []
    }
  ],
  "metadata": {
    "colab": {
      "provenance": [],
      "authorship_tag": "ABX9TyNfcUioDliZDgNNaRe6yBF7",
      "include_colab_link": true
    },
    "kernelspec": {
      "display_name": "Python 3",
      "name": "python3"
    },
    "language_info": {
      "name": "python"
    }
  },
  "nbformat": 4,
  "nbformat_minor": 0
}